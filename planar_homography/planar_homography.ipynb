{
 "cells": [
  {
   "cell_type": "code",
   "execution_count": 1,
   "metadata": {},
   "outputs": [
    {
     "name": "stdout",
     "output_type": "stream",
     "text": [
      "[[[ 644.5573    -67.375916]\n",
      "  [1608.7404   -126.63277 ]\n",
      "  [ 280.7948    -69.351814]\n",
      "  [ 133.50375    96.1082  ]]]\n"
     ]
    },
    {
     "data": {
      "text/plain": [
       "-1"
      ]
     },
     "execution_count": 1,
     "metadata": {},
     "output_type": "execute_result"
    }
   ],
   "source": [
    "'''\n",
    " world to image frame transform (ignore camera distortion)\n",
    " using perspective transform / planar homography\n",
    " \n",
    " Desay SV Automotive, ITTI\n",
    " \n",
    "'''\n",
    "import cv2\n",
    "import numpy as np\n",
    "\n",
    "# points in world frame\n",
    "# units: mm\n",
    "'''\n",
    "world_points = np.array([[-1000, 2391],\n",
    "                         [-1000, 1391],\n",
    "                         [1000, 1391],\n",
    "                         [1000, 2391]])\n",
    "'''\n",
    "\n",
    "'''\n",
    "world_points = np.array([[-100, 239],\n",
    "                         [-100, 139],\n",
    "                         [100, 139],\n",
    "                         [100, 239]])\n",
    "'''\n",
    "\n",
    "# world coordinates with world frame scaling & translation\n",
    "# you can use different world frame\n",
    "# 为了方便warpPerspective图像到世界坐标映射，建立的坐标系和图像坐标系一样\n",
    "# 世界坐标系中标定布的每一小格代表10，缩放了10倍\n",
    "# 实际应用中，世界坐标系坐标点和图像坐标系坐标点可以通过手动标定获得，也可以通过自动标定获得\n",
    "world_points = np.array([[350, 400],\n",
    "                         [350, 500],\n",
    "                         [550, 500],\n",
    "                         [550, 400]])\n",
    "\n",
    "\n",
    "# points in the image frame which corresponding to the points in the world frame\n",
    "img_points = np.array([[319, 261],\n",
    "                       [221, 414],\n",
    "                       [825, 408],\n",
    "                       [712, 259]])\n",
    "\n",
    "# find homography for world to image mapping\n",
    "H, status = cv2.findHomography(world_points, img_points)\n",
    "\n",
    "# use H to mapping world to image\n",
    "src = np.array([[0, 2391],\n",
    "                [-1000, 1391],\n",
    "                [1100, 2391],\n",
    "                [0, 0]], dtype = 'float32')\n",
    "dst = cv2.perspectiveTransform(np.array([src]), H)\n",
    "print(dst)\n",
    "\n",
    "rvc_src = cv2.imread('dst.bmp')\n",
    "\n",
    "# inverse H to remapping image to world\n",
    "rvc_dst = cv2.warpPerspective(rvc_src, np.linalg.inv(H), (1000, 600))\n",
    "cv2.imshow('test', rvc_dst)\n",
    "cv2.waitKey(0)\n"
   ]
  },
  {
   "cell_type": "code",
   "execution_count": null,
   "metadata": {},
   "outputs": [],
   "source": []
  }
 ],
 "metadata": {
  "kernelspec": {
   "display_name": "Python 3",
   "language": "python",
   "name": "python3"
  },
  "language_info": {
   "codemirror_mode": {
    "name": "ipython",
    "version": 3
   },
   "file_extension": ".py",
   "mimetype": "text/x-python",
   "name": "python",
   "nbconvert_exporter": "python",
   "pygments_lexer": "ipython3",
   "version": "3.6.4"
  }
 },
 "nbformat": 4,
 "nbformat_minor": 2
}
